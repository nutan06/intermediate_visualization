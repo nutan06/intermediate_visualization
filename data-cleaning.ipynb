{
 "cells": [
  {
   "cell_type": "markdown",
   "metadata": {},
   "source": [
    "# Data Cleaning Challenge"
   ]
  },
  {
   "cell_type": "markdown",
   "metadata": {},
   "source": [
    "Author:Nutan Mandale"
   ]
  },
  {
   "cell_type": "markdown",
   "metadata": {},
   "source": [
    "Mentor:Vincent Ramdhanie"
   ]
  },
  {
   "cell_type": "markdown",
   "metadata": {},
   "source": [
    "This is the data cleaning exercise for the Wellcome trust journal data."
   ]
  },
  {
   "cell_type": "code",
   "execution_count": 1,
   "metadata": {
    "collapsed": true
   },
   "outputs": [],
   "source": [
    "import pandas as pd\n",
    "import matplotlib.pyplot as plt\n",
    "import numpy as np\n",
    "import re\n",
    "import seaborn as sns"
   ]
  },
  {
   "cell_type": "code",
   "execution_count": 2,
   "metadata": {
    "collapsed": false
   },
   "outputs": [
    {
     "data": {
      "text/html": [
       "<div>\n",
       "<table border=\"1\" class=\"dataframe\">\n",
       "  <thead>\n",
       "    <tr style=\"text-align: right;\">\n",
       "      <th></th>\n",
       "      <th>PMID/PMCID</th>\n",
       "      <th>Publisher</th>\n",
       "      <th>Journal title</th>\n",
       "      <th>Article title</th>\n",
       "      <th>COST (£) charged to Wellcome (inc VAT when charged)</th>\n",
       "    </tr>\n",
       "  </thead>\n",
       "  <tbody>\n",
       "    <tr>\n",
       "      <th>0</th>\n",
       "      <td>NaN</td>\n",
       "      <td>CUP</td>\n",
       "      <td>Psychological Medicine</td>\n",
       "      <td>Reduced parahippocampal cortical thickness in ...</td>\n",
       "      <td>£0.00</td>\n",
       "    </tr>\n",
       "    <tr>\n",
       "      <th>1</th>\n",
       "      <td>PMC3679557</td>\n",
       "      <td>ACS</td>\n",
       "      <td>Biomacromolecules</td>\n",
       "      <td>Structural characterization of a Model Gram-ne...</td>\n",
       "      <td>£2381.04</td>\n",
       "    </tr>\n",
       "    <tr>\n",
       "      <th>2</th>\n",
       "      <td>23043264  PMC3506128</td>\n",
       "      <td>ACS</td>\n",
       "      <td>J Med Chem</td>\n",
       "      <td>Fumaroylamino-4,5-epoxymorphinans and related ...</td>\n",
       "      <td>£642.56</td>\n",
       "    </tr>\n",
       "    <tr>\n",
       "      <th>3</th>\n",
       "      <td>23438330 PMC3646402</td>\n",
       "      <td>ACS</td>\n",
       "      <td>J Med Chem</td>\n",
       "      <td>Orvinols with mixed kappa/mu opioid receptor a...</td>\n",
       "      <td>£669.64</td>\n",
       "    </tr>\n",
       "    <tr>\n",
       "      <th>4</th>\n",
       "      <td>23438216 PMC3601604</td>\n",
       "      <td>ACS</td>\n",
       "      <td>J Org Chem</td>\n",
       "      <td>Regioselective opening of myo-inositol orthoes...</td>\n",
       "      <td>£685.88</td>\n",
       "    </tr>\n",
       "  </tbody>\n",
       "</table>\n",
       "</div>"
      ],
      "text/plain": [
       "              PMID/PMCID Publisher           Journal title  \\\n",
       "0                    NaN       CUP  Psychological Medicine   \n",
       "1             PMC3679557       ACS       Biomacromolecules   \n",
       "2  23043264  PMC3506128        ACS              J Med Chem   \n",
       "3    23438330 PMC3646402       ACS              J Med Chem   \n",
       "4   23438216 PMC3601604        ACS              J Org Chem   \n",
       "\n",
       "                                       Article title  \\\n",
       "0  Reduced parahippocampal cortical thickness in ...   \n",
       "1  Structural characterization of a Model Gram-ne...   \n",
       "2  Fumaroylamino-4,5-epoxymorphinans and related ...   \n",
       "3  Orvinols with mixed kappa/mu opioid receptor a...   \n",
       "4  Regioselective opening of myo-inositol orthoes...   \n",
       "\n",
       "  COST (£) charged to Wellcome (inc VAT when charged)  \n",
       "0                                              £0.00   \n",
       "1                                           £2381.04   \n",
       "2                                            £642.56   \n",
       "3                                            £669.64   \n",
       "4                                            £685.88   "
      ]
     },
     "execution_count": 2,
     "metadata": {},
     "output_type": "execute_result"
    }
   ],
   "source": [
    "trust = pd.read_csv(\"./WELLCOME_APCspend2013_forThinkful.csv\",encoding='latin')\n",
    "df = pd.DataFrame(trust)\n",
    "trust.head()"
   ]
  },
  {
   "cell_type": "markdown",
   "metadata": {},
   "source": [
    "Taking a look at data we can see there are many inconsistancies in the data.In the column of PMID/PMCID we can see there are rows without data ,inconsistent format of the ID.In the Publisher column we see the publisher is abbreviated as well as in full name.\n",
    "The Journal title column have similar inconsistancies as that of Publisher column.The cost column have the currency symbol which needs to be removed inorder to get the cost as float number."
   ]
  },
  {
   "cell_type": "code",
   "execution_count": 3,
   "metadata": {
    "collapsed": false
   },
   "outputs": [],
   "source": [
    "#Rename the cost column\n",
    "df = df.rename(columns={'COST (£) charged to Wellcome (inc VAT when charged)':'Cost'})\n"
   ]
  },
  {
   "cell_type": "code",
   "execution_count": 4,
   "metadata": {
    "collapsed": true
   },
   "outputs": [],
   "source": [
    "#Extract the numeric money value from cost field.\n",
    "#Cost includes currency symbol\n",
    "def cleanCost(cost):\n",
    "    nums = re.findall(r'\\d+\\.*\\d*', cost)\n",
    "    return float(nums[0])"
   ]
  },
  {
   "cell_type": "code",
   "execution_count": 5,
   "metadata": {
    "collapsed": false
   },
   "outputs": [
    {
     "data": {
      "text/plain": [
       "Cost    999999.0\n",
       "dtype: float64"
      ]
     },
     "execution_count": 5,
     "metadata": {},
     "output_type": "execute_result"
    }
   ],
   "source": [
    "#df3 contains a data frame with the cleaned costs\n",
    "df3 = pd.DataFrame({'Cost': df['Cost'].apply(cleanCost)})\n",
    "df3.max()"
   ]
  },
  {
   "cell_type": "markdown",
   "metadata": {
    "collapsed": true
   },
   "source": [
    "The maximum value of the cost 999999.0 seems to be unrealistic. These outliers needs to be corrected."
   ]
  },
  {
   "cell_type": "code",
   "execution_count": 6,
   "metadata": {
    "collapsed": false
   },
   "outputs": [],
   "source": [
    "def outlier_correction(cost, dataf, threshold):\n",
    "    result = cost\n",
    "    if cost >= threshold:\n",
    "        result = dataf.quantile(.9).values[0]\n",
    "    return result\n"
   ]
  },
  {
   "cell_type": "code",
   "execution_count": 7,
   "metadata": {
    "collapsed": false
   },
   "outputs": [],
   "source": [
    "New_Cost = pd.DataFrame({'Cost':df3['Cost'].apply(outlier_correction, args=(df3, 999998))})"
   ]
  },
  {
   "cell_type": "code",
   "execution_count": 8,
   "metadata": {
    "collapsed": false
   },
   "outputs": [],
   "source": [
    "def publisher(name):\n",
    "    p = {\n",
    "        'AMERCIAN CHEMICAL SOCIETY': 'ACS',\n",
    "        'ACS':'ACS',\n",
    "        'AMERICAN CHEMICAL SOCIETY':'ACS',\n",
    "        'ACS (Amercian Chemical Society) Publications':'ACS',\n",
    "        'ACS Publications':'ACS',\n",
    "        'American Chemical Society':'ACS',\n",
    "        'American Chemical Society Publications':'ACS',\n",
    "        'American Soc for Biochemistry and Molecular Biology':'ASBMB',\n",
    "        'American Society for Biochemistry and Molecular Biology':'ASBMB',\n",
    "        'ASM (American Society for Microbiology)':'ASM',\n",
    "        'American Society for Microbiology':'ASM',\n",
    "        'ASBMB Cadmus':'ASBMB',\n",
    "        'ASBMB/Cenveo Publisher Services':'ASMB',\n",
    "        'ASBMC /CENVEO':'ASMB',\n",
    "        'BioMed Central ':'BMC',\n",
    "        'BioMed Central Limited':'BMC',\n",
    "        'BioMed Central Ltd':'BMC',\n",
    "        'BMJ Group':'BMJ',\n",
    "        'BMJ Journals':'BMJ',\n",
    "        'BMJ Publishing Group':'BMJ',\n",
    "        'BMJ PUBLISHING GROUP':'BMJ',\n",
    "        'BMJ Publishing Group Ltd':'BMJ',\n",
    "        'BMJ Publishing Group Ltd & British Thoracic Society':'BMJ',\n",
    "        'British Medical Journal':'BMJ',\n",
    "        'CADMUS JOURNAL SERVICE ':'Cadmus',\n",
    "        'Cadmus Journal Services':'Cadmus',\n",
    "        'Cambridge Univ Press':'Cambridge University Press',\n",
    "        'Cold Spring Habour Press':'Cold Spring Harbor',\n",
    "        'Cold Spring Harbor Laboratory Press':'Cold Spring Harbor',\n",
    "        'Cold Spring Harbor Publications':'Cold Spring Harbor',\n",
    "        'Elseveier Science':'Elsevier',\n",
    "        'Elsevier (Cell Press)':'Elsevier ',\n",
    "        'ELSEVIER':'Elsevier ',\n",
    "        'Elsevier / Cell Science':'Elsevier',\n",
    "        'Elsevier B.V.':'Elsevier',\n",
    "        'Elsevier Ltd':'Elsevier',\n",
    "        'Elsevier/Cell Press':'Elsevier',\n",
    "        'Federation of American Societies for Experimental Biology':'FASEB',\n",
    "        'Frontiers Media':'Frontiers',\n",
    "        'Frontiers Media SA':'Frontiers',\n",
    "        'Frontiers Research Foundation':'Frontiers',\n",
    "        'Future Medicine Ltd':'Future Medicine',\n",
    "        'Hindawi Publishing Corporation':'Hindawi',\n",
    "        'Impact Journals LLC':'Impact Journals',\n",
    "        'JOHN WILEY & SONS':'John Wiley',\n",
    "        'John Wiley & Sons':'John Wiley',\n",
    "        'John Wiley & Sons Inc':'John Wiley',\n",
    "        'John Wiley & Sons Ltd':'John Wiley',\n",
    "        'John Wiley and Sons':'John Wiley',\n",
    "        'John Wiley and Sons Ltd':'John Wiley',\n",
    "        'KARGER':'Karger',\n",
    "        'MARY ANN LIEBERT INC':'Mary Ann Liebert',\n",
    "        'Mary Ann Liebert, Inc. Publishers':'Mary Ann Liebert',\n",
    "        'My JOVE corporation':'MY JOVE CORP',\n",
    "        'MYJoVE Corporation':'MY JOVE CORP',\n",
    "        'National Academy of Sciences of the United States of America':'National Academy of Sciences',\n",
    "        'National Academy of Sciences USA':'National Academy of Sciences',\n",
    "        'Nature ':'Nature Publishing Group',\n",
    "        'Nature PG':'Nature Publishing Group',\n",
    "        'Nature Publishing':'Nature Publishing Group',\n",
    "        'NATURE PUBLISHING GROUP LTD':'Nature Publishing Group',\n",
    "        'NPG':'Nature Publishing Group',\n",
    "        'Oxford Journals':'OUP',\n",
    "        'Oxford Journals (OUP)':'OUP',\n",
    "        'Oxford Univ Press':'OUP',\n",
    "        'Oxford University Press':'OUP',\n",
    "        'OXFORD UNIVERSITY PRESS':'OUP',\n",
    "        'PLoS (Public Library of Science)':'PLOS',\n",
    "        'Plos':'PLOS',\n",
    "        'PLoS Public Library of Science':'PLOS',\n",
    "        'PNAS Author Publication':'PNAS',\n",
    "        'PORTLAND PRESS LTD':'Portland Press',\n",
    "        'Portland Press Ltd':'Portland Press',\n",
    "        'Royal Society':'RSC',\n",
    "        'Royal Society of Chemistry':'RSC',\n",
    "        'RSC Publishing':'RSC',\n",
    "        'Sage':'SAGE',\n",
    "        'Sage Publications':'SAGE',\n",
    "        'SAGE Publications':'SAGE',\n",
    "        'Sage Publications Inc':'SAGE',\n",
    "        'Sage Publications Ltd':'SAGE',\n",
    "        'Sage Publishers':'SAGE',\n",
    "        'Sage Publishing':'SAGE',\n",
    "        'Springer - Verlag GMBH':'Springer',\n",
    "        'Springer Science + Business Media':'Springer',\n",
    "        'Springer Verlag':'Springer',\n",
    "        'SPRINGER-VERLAG GMBH':'Springer',\n",
    "        'Springer-Verlag GMBH & Ci':'Springer',\n",
    "        'Springer-Verlag GmbH, Heidelberger Platz 3, D-14197 Berlin':'Springer',\n",
    "        'Taylor & Francis':'T&F',\n",
    "        'Taylor & Francis Journals ':'T&F',\n",
    "        'The company of Biolgists':'THE COMPANY OF BIOLOGISTS',\n",
    "        'The Company of Biologists':'THE COMPANY OF BIOLOGISTS',\n",
    "        'The Company of Biologists Ltd':'THE COMPANY OF BIOLOGISTS',\n",
    "        'The Endocrine Society':'THE ENDOCRINE SOCIETY',\n",
    "        'The royal Society':'The Royal Society',\n",
    "        'Wiley & Son':'Wiley',\n",
    "        'Wiley Blackwell':'Wiley',\n",
    "        'Blackwell Publishing Ltd/Wiley':'Wiley',\n",
    "        'Wiley Online Library':'Wiley',\n",
    "        'Wiley Subscription Services':'Wiley',\n",
    "        'Wiley Subscription Services  Inc.':'Wiley',\n",
    "        'Wiley VCH':'Wiley',\n",
    "        'Wiley/Blackwell':'Wiley',\n",
    "        'Wiley-Blackwell, John Wiley & Sons':'Wiley',\n",
    "        'Wiley-VCH':'Wiley',\n",
    "        'Wolters Kluwer Health':'Wolters Kluwer',\n",
    "        'Wolters Kluwer N.V./Lippinott':'Wolters Kluwer'        \n",
    "    }\n",
    "    for k, v in p.items():\n",
    "        if k in name.upper():\n",
    "            return v\n",
    "    return name\n",
    "     "
   ]
  },
  {
   "cell_type": "code",
   "execution_count": 9,
   "metadata": {
    "collapsed": false
   },
   "outputs": [],
   "source": [
    "j={\n",
    "    'Acs': 'American Chemical Society',\n",
    "    'Acs (Amercian Chemical Society) Publications': 'American Chemical Society',\n",
    "    'Asm': 'American Society for Microbiology',\n",
    "    'Biomed Central Limited': 'BioMed Central',\n",
    "    'Biomed Central Ltd':'BioMed Central',\n",
    "    'Bmj':'British Medical Journal',\n",
    "    'Bmj Group':'British Medical Journal',\n",
    "    'Bmj Publishing Group':'British Medical Journal',\n",
    "    'Bmj Publishing Group Ltd':'British Medical Journal',\n",
    "    'Cadmus':'Cadmus Journal Services',\n",
    "    'Cambridge Journals':'Cambridge University Press',\n",
    "    'Cambridge Uni Press':'Cambridge University Press',\n",
    "    'Cambridge Univ Press':'Cambridge University Press',\n",
    "    'Cenveo Publisher Services/ASM JV1': 'Cenveo Publisher Services',\n",
    "    'Cold Spring Habour Press':'Cold Spring Harbor Laboratory Press',\n",
    "    'Cold Spring Harbor Press':'Cold Spring Harbor Laboratory Press',\n",
    "    'Cold Spring Harbor Publications':'Cold Spring Harbor Laboratory Press',\n",
    "    'Dartmouth Journals':'Dartmouth Journal Services',\n",
    "    'Elseveier Science':'Elsevier',\n",
    "    'Faseb':'Federation of American Societies for Experimental Biology',\n",
    "    'Federation of American Societies for Experimental Biology (FASEB)':'Federation of American Societies for Experimental Biology',\n",
    "    'Oup':'Oxford University Press',\n",
    "    'Oxford Univ Pres':'Oxford University Press',\n",
    "    'Oxford Journals':'Oxford University Press',\n",
    "    'Oxford Journals (OUP)':'Oxford University Press',\n",
    "    'Plos':'Public Library of Science',\n",
    "    'Plos (Public Library of Science)':'Public Library of Science',\n",
    "    'Royal Society': 'Royal Society of Chemistry',\n",
    "    'Rsc':'Royal Society of Chemistry',\n",
    "    'Rsc Publishing':'Royal Society of Chemistry',\n",
    "    'Aids':'Journal of Acquired Immune Deficiency Syndromes',\n",
    "    'Aids Journal':'Journal of Acquired Immune Deficiency Syndromes',\n",
    "    'Aids UK':'Journal of Acquired Immune Deficiency Syndromes',\n",
    "    'Jaids Journal of Acquired Immune Deficiency Syndromes':'Journal of Acquired Immune Deficiency Syndromes',\n",
    "    'Journal of Acquired Immune Deficiency Syndroms (JAIDS)':'Journal of Acquired Immune Deficiency Syndromes',\n",
    "    'Journal of AIDS':'Journal of Acquired Immune Deficiency Syndromes',\n",
    "    'Plos 1':'Plos One',\n",
    "    'Neuroimage':'NeuroImage'\n",
    "}\n",
    "def journal_name(string):\n",
    "    string = str(string)\n",
    "    string = string.lower()\n",
    "    result = string.title()\n",
    "    if result in j:\n",
    "        result = j.get(result)\n",
    "    return result\n",
    "\n",
    "New_Journal = pd.DataFrame({'Journal title':trust['Journal title'].apply(journal_name)})"
   ]
  },
  {
   "cell_type": "code",
   "execution_count": 10,
   "metadata": {
    "collapsed": false
   },
   "outputs": [],
   "source": [
    "publisher_new = pd.DataFrame({'Publisher': df['Publisher'].apply(publisher)})"
   ]
  },
  {
   "cell_type": "code",
   "execution_count": 22,
   "metadata": {
    "collapsed": false
   },
   "outputs": [
    {
     "data": {
      "text/html": [
       "<div>\n",
       "<table border=\"1\" class=\"dataframe\">\n",
       "  <thead>\n",
       "    <tr style=\"text-align: right;\">\n",
       "      <th></th>\n",
       "      <th>PMID/PMCID</th>\n",
       "      <th>Publisher</th>\n",
       "      <th>Journal title</th>\n",
       "      <th>Article title</th>\n",
       "      <th>Cost_x</th>\n",
       "      <th>Cost_y</th>\n",
       "      <th>Cost_x</th>\n",
       "      <th>Cost_y</th>\n",
       "      <th>Cost</th>\n",
       "    </tr>\n",
       "  </thead>\n",
       "  <tbody>\n",
       "    <tr>\n",
       "      <th>0</th>\n",
       "      <td>NaN</td>\n",
       "      <td>CUP</td>\n",
       "      <td>Psychological Medicine</td>\n",
       "      <td>Reduced parahippocampal cortical thickness in ...</td>\n",
       "      <td>£0.00</td>\n",
       "      <td>0.00</td>\n",
       "      <td>0.00</td>\n",
       "      <td>0.00</td>\n",
       "      <td>0.00</td>\n",
       "    </tr>\n",
       "    <tr>\n",
       "      <th>1</th>\n",
       "      <td>PMC3679557</td>\n",
       "      <td>ACS</td>\n",
       "      <td>Biomacromolecules</td>\n",
       "      <td>Structural characterization of a Model Gram-ne...</td>\n",
       "      <td>£2381.04</td>\n",
       "      <td>2381.04</td>\n",
       "      <td>2381.04</td>\n",
       "      <td>2381.04</td>\n",
       "      <td>2381.04</td>\n",
       "    </tr>\n",
       "    <tr>\n",
       "      <th>2</th>\n",
       "      <td>23043264  PMC3506128</td>\n",
       "      <td>ACS</td>\n",
       "      <td>J Med Chem</td>\n",
       "      <td>Fumaroylamino-4,5-epoxymorphinans and related ...</td>\n",
       "      <td>£642.56</td>\n",
       "      <td>642.56</td>\n",
       "      <td>642.56</td>\n",
       "      <td>642.56</td>\n",
       "      <td>642.56</td>\n",
       "    </tr>\n",
       "    <tr>\n",
       "      <th>3</th>\n",
       "      <td>23438330 PMC3646402</td>\n",
       "      <td>ACS</td>\n",
       "      <td>J Med Chem</td>\n",
       "      <td>Orvinols with mixed kappa/mu opioid receptor a...</td>\n",
       "      <td>£669.64</td>\n",
       "      <td>669.64</td>\n",
       "      <td>669.64</td>\n",
       "      <td>669.64</td>\n",
       "      <td>669.64</td>\n",
       "    </tr>\n",
       "    <tr>\n",
       "      <th>4</th>\n",
       "      <td>23438216 PMC3601604</td>\n",
       "      <td>ACS</td>\n",
       "      <td>J Org Chem</td>\n",
       "      <td>Regioselective opening of myo-inositol orthoes...</td>\n",
       "      <td>£685.88</td>\n",
       "      <td>685.88</td>\n",
       "      <td>685.88</td>\n",
       "      <td>685.88</td>\n",
       "      <td>685.88</td>\n",
       "    </tr>\n",
       "  </tbody>\n",
       "</table>\n",
       "</div>"
      ],
      "text/plain": [
       "              PMID/PMCID Publisher           Journal title  \\\n",
       "0                    NaN       CUP  Psychological Medicine   \n",
       "1             PMC3679557       ACS       Biomacromolecules   \n",
       "2  23043264  PMC3506128        ACS              J Med Chem   \n",
       "3    23438330 PMC3646402       ACS              J Med Chem   \n",
       "4   23438216 PMC3601604        ACS              J Org Chem   \n",
       "\n",
       "                                       Article title    Cost_x   Cost_y  \\\n",
       "0  Reduced parahippocampal cortical thickness in ...     £0.00     0.00   \n",
       "1  Structural characterization of a Model Gram-ne...  £2381.04  2381.04   \n",
       "2  Fumaroylamino-4,5-epoxymorphinans and related ...   £642.56   642.56   \n",
       "3  Orvinols with mixed kappa/mu opioid receptor a...   £669.64   669.64   \n",
       "4  Regioselective opening of myo-inositol orthoes...   £685.88   685.88   \n",
       "\n",
       "    Cost_x   Cost_y     Cost  \n",
       "0     0.00     0.00     0.00  \n",
       "1  2381.04  2381.04  2381.04  \n",
       "2   642.56   642.56   642.56  \n",
       "3   669.64   669.64   669.64  \n",
       "4   685.88   685.88   685.88  "
      ]
     },
     "execution_count": 22,
     "metadata": {},
     "output_type": "execute_result"
    }
   ],
   "source": [
    "#Merge the cleaned costs and cleaned publishers into the dataframe\n",
    "df = pd.merge(df, New_Cost, left_index=True, right_index=True)\n",
    "#df = pd.merge(df, df3, left_index=True, right_index=True)\n",
    "new_df['Cost'] = New_Cost['Cost']\n",
    "new_df['Publisher'] = publisher_new['Publisher']\n",
    "new_df['Journal title'] = New_Journal['Journal title']\n",
    "new_df['Article title'] = df['Article title']\n",
    "df.head()"
   ]
  },
  {
   "cell_type": "code",
   "execution_count": 26,
   "metadata": {
    "collapsed": false
   },
   "outputs": [
    {
     "data": {
      "text/html": [
       "<div>\n",
       "<table border=\"1\" class=\"dataframe\">\n",
       "  <thead>\n",
       "    <tr style=\"text-align: right;\">\n",
       "      <th></th>\n",
       "      <th>Publisher</th>\n",
       "      <th>Journal title</th>\n",
       "      <th>Article title</th>\n",
       "      <th>Cost</th>\n",
       "    </tr>\n",
       "  </thead>\n",
       "  <tbody>\n",
       "    <tr>\n",
       "      <th>0</th>\n",
       "      <td>CUP</td>\n",
       "      <td>Psychological Medicine</td>\n",
       "      <td>Reduced parahippocampal cortical thickness in ...</td>\n",
       "      <td>0.00</td>\n",
       "    </tr>\n",
       "    <tr>\n",
       "      <th>1</th>\n",
       "      <td>ACS</td>\n",
       "      <td>Biomacromolecules</td>\n",
       "      <td>Structural characterization of a Model Gram-ne...</td>\n",
       "      <td>2381.04</td>\n",
       "    </tr>\n",
       "    <tr>\n",
       "      <th>2</th>\n",
       "      <td>ACS</td>\n",
       "      <td>J Med Chem</td>\n",
       "      <td>Fumaroylamino-4,5-epoxymorphinans and related ...</td>\n",
       "      <td>642.56</td>\n",
       "    </tr>\n",
       "    <tr>\n",
       "      <th>3</th>\n",
       "      <td>ACS</td>\n",
       "      <td>J Med Chem</td>\n",
       "      <td>Orvinols with mixed kappa/mu opioid receptor a...</td>\n",
       "      <td>669.64</td>\n",
       "    </tr>\n",
       "    <tr>\n",
       "      <th>4</th>\n",
       "      <td>ACS</td>\n",
       "      <td>J Org Chem</td>\n",
       "      <td>Regioselective opening of myo-inositol orthoes...</td>\n",
       "      <td>685.88</td>\n",
       "    </tr>\n",
       "  </tbody>\n",
       "</table>\n",
       "</div>"
      ],
      "text/plain": [
       "  Publisher           Journal title  \\\n",
       "0       CUP  Psychological Medicine   \n",
       "1       ACS       Biomacromolecules   \n",
       "2       ACS              J Med Chem   \n",
       "3       ACS              J Med Chem   \n",
       "4       ACS              J Org Chem   \n",
       "\n",
       "                                       Article title     Cost  \n",
       "0  Reduced parahippocampal cortical thickness in ...     0.00  \n",
       "1  Structural characterization of a Model Gram-ne...  2381.04  \n",
       "2  Fumaroylamino-4,5-epoxymorphinans and related ...   642.56  \n",
       "3  Orvinols with mixed kappa/mu opioid receptor a...   669.64  \n",
       "4  Regioselective opening of myo-inositol orthoes...   685.88  "
      ]
     },
     "execution_count": 26,
     "metadata": {},
     "output_type": "execute_result"
    }
   ],
   "source": [
    "#Bringing it together\n",
    "new_df1 = df[['Publisher', 'Journal title','Article title','Cost']]\n",
    "new_df1.head()"
   ]
  },
  {
   "cell_type": "code",
   "execution_count": 27,
   "metadata": {
    "collapsed": false
   },
   "outputs": [
    {
     "data": {
      "text/plain": [
       "(2127, 4)"
      ]
     },
     "execution_count": 27,
     "metadata": {},
     "output_type": "execute_result"
    }
   ],
   "source": [
    "new_df1.shape"
   ]
  },
  {
   "cell_type": "code",
   "execution_count": 28,
   "metadata": {
    "collapsed": false
   },
   "outputs": [
    {
     "data": {
      "text/html": [
       "<div>\n",
       "<table border=\"1\" class=\"dataframe\">\n",
       "  <thead>\n",
       "    <tr style=\"text-align: right;\">\n",
       "      <th></th>\n",
       "      <th>Publisher</th>\n",
       "      <th>Journal title</th>\n",
       "      <th>Article title</th>\n",
       "      <th>Cost</th>\n",
       "    </tr>\n",
       "  </thead>\n",
       "  <tbody>\n",
       "    <tr>\n",
       "      <th>0</th>\n",
       "      <td>CUP</td>\n",
       "      <td>Psychological Medicine</td>\n",
       "      <td>Reduced parahippocampal cortical thickness in ...</td>\n",
       "      <td>0.00</td>\n",
       "    </tr>\n",
       "    <tr>\n",
       "      <th>1</th>\n",
       "      <td>ACS</td>\n",
       "      <td>Biomacromolecules</td>\n",
       "      <td>Structural characterization of a Model Gram-ne...</td>\n",
       "      <td>2381.04</td>\n",
       "    </tr>\n",
       "    <tr>\n",
       "      <th>2</th>\n",
       "      <td>ACS</td>\n",
       "      <td>J Med Chem</td>\n",
       "      <td>Fumaroylamino-4,5-epoxymorphinans and related ...</td>\n",
       "      <td>642.56</td>\n",
       "    </tr>\n",
       "    <tr>\n",
       "      <th>3</th>\n",
       "      <td>ACS</td>\n",
       "      <td>J Med Chem</td>\n",
       "      <td>Orvinols with mixed kappa/mu opioid receptor a...</td>\n",
       "      <td>669.64</td>\n",
       "    </tr>\n",
       "    <tr>\n",
       "      <th>4</th>\n",
       "      <td>ACS</td>\n",
       "      <td>J Org Chem</td>\n",
       "      <td>Regioselective opening of myo-inositol orthoes...</td>\n",
       "      <td>685.88</td>\n",
       "    </tr>\n",
       "  </tbody>\n",
       "</table>\n",
       "</div>"
      ],
      "text/plain": [
       "  Publisher           Journal title  \\\n",
       "0       CUP  Psychological Medicine   \n",
       "1       ACS       Biomacromolecules   \n",
       "2       ACS              J Med Chem   \n",
       "3       ACS              J Med Chem   \n",
       "4       ACS              J Org Chem   \n",
       "\n",
       "                                       Article title     Cost  \n",
       "0  Reduced parahippocampal cortical thickness in ...     0.00  \n",
       "1  Structural characterization of a Model Gram-ne...  2381.04  \n",
       "2  Fumaroylamino-4,5-epoxymorphinans and related ...   642.56  \n",
       "3  Orvinols with mixed kappa/mu opioid receptor a...   669.64  \n",
       "4  Regioselective opening of myo-inositol orthoes...   685.88  "
      ]
     },
     "execution_count": 28,
     "metadata": {},
     "output_type": "execute_result"
    }
   ],
   "source": [
    "new_df1.head()"
   ]
  },
  {
   "cell_type": "code",
   "execution_count": 29,
   "metadata": {
    "collapsed": false
   },
   "outputs": [
    {
     "data": {
      "text/html": [
       "<div>\n",
       "<table border=\"1\" class=\"dataframe\">\n",
       "  <thead>\n",
       "    <tr style=\"text-align: right;\">\n",
       "      <th></th>\n",
       "      <th>Cost</th>\n",
       "    </tr>\n",
       "  </thead>\n",
       "  <tbody>\n",
       "    <tr>\n",
       "      <th>count</th>\n",
       "      <td>2127.000000</td>\n",
       "    </tr>\n",
       "    <tr>\n",
       "      <th>mean</th>\n",
       "      <td>2033.791457</td>\n",
       "    </tr>\n",
       "    <tr>\n",
       "      <th>std</th>\n",
       "      <td>6033.904800</td>\n",
       "    </tr>\n",
       "    <tr>\n",
       "      <th>min</th>\n",
       "      <td>0.000000</td>\n",
       "    </tr>\n",
       "    <tr>\n",
       "      <th>25%</th>\n",
       "      <td>1280.000000</td>\n",
       "    </tr>\n",
       "    <tr>\n",
       "      <th>50%</th>\n",
       "      <td>1884.010000</td>\n",
       "    </tr>\n",
       "    <tr>\n",
       "      <th>75%</th>\n",
       "      <td>2321.305000</td>\n",
       "    </tr>\n",
       "    <tr>\n",
       "      <th>max</th>\n",
       "      <td>201024.000000</td>\n",
       "    </tr>\n",
       "  </tbody>\n",
       "</table>\n",
       "</div>"
      ],
      "text/plain": [
       "                Cost\n",
       "count    2127.000000\n",
       "mean     2033.791457\n",
       "std      6033.904800\n",
       "min         0.000000\n",
       "25%      1280.000000\n",
       "50%      1884.010000\n",
       "75%      2321.305000\n",
       "max    201024.000000"
      ]
     },
     "execution_count": 29,
     "metadata": {},
     "output_type": "execute_result"
    }
   ],
   "source": [
    "new_df1.describe()"
   ]
  },
  {
   "cell_type": "markdown",
   "metadata": {},
   "source": [
    "Statistical Values"
   ]
  },
  {
   "cell_type": "code",
   "execution_count": 30,
   "metadata": {
    "collapsed": false
   },
   "outputs": [
    {
     "data": {
      "text/plain": [
       "201024.0"
      ]
     },
     "execution_count": 30,
     "metadata": {},
     "output_type": "execute_result"
    }
   ],
   "source": [
    "new_df1['Cost'].max()"
   ]
  },
  {
   "cell_type": "markdown",
   "metadata": {},
   "source": [
    "Article having largest cost"
   ]
  },
  {
   "cell_type": "code",
   "execution_count": 31,
   "metadata": {
    "collapsed": false
   },
   "outputs": [
    {
     "name": "stdout",
     "output_type": "stream",
     "text": [
      "     Publisher       Journal title  \\\n",
      "1987     Wiley  Movement Disorders   \n",
      "\n",
      "                                          Article title      Cost  \n",
      "1987  Limb amputations in fixed dystonia: a form of ...  201024.0  \n"
     ]
    }
   ],
   "source": [
    "max_cost = new_df1['Cost'].max()\n",
    "print(new_df1[(new_df1.Cost == max_cost)])"
   ]
  },
  {
   "cell_type": "markdown",
   "metadata": {},
   "source": [
    "Article having minimum cost"
   ]
  },
  {
   "cell_type": "code",
   "execution_count": 32,
   "metadata": {
    "collapsed": false
   },
   "outputs": [
    {
     "name": "stdout",
     "output_type": "stream",
     "text": [
      "  Publisher           Journal title  \\\n",
      "0       CUP  Psychological Medicine   \n",
      "\n",
      "                                       Article title  Cost  \n",
      "0  Reduced parahippocampal cortical thickness in ...   0.0  \n"
     ]
    }
   ],
   "source": [
    "min_cost = new_df1['Cost'].min()\n",
    "print(new_df1[(new_df1.Cost == min_cost)])"
   ]
  },
  {
   "cell_type": "markdown",
   "metadata": {},
   "source": [
    "Top 5 costliest article title and journal title"
   ]
  },
  {
   "cell_type": "code",
   "execution_count": 33,
   "metadata": {
    "collapsed": false
   },
   "outputs": [
    {
     "data": {
      "text/html": [
       "<div>\n",
       "<table border=\"1\" class=\"dataframe\">\n",
       "  <thead>\n",
       "    <tr style=\"text-align: right;\">\n",
       "      <th></th>\n",
       "      <th>Publisher</th>\n",
       "      <th>Journal title</th>\n",
       "      <th>Article title</th>\n",
       "      <th>Cost</th>\n",
       "    </tr>\n",
       "  </thead>\n",
       "  <tbody>\n",
       "    <tr>\n",
       "      <th>1987</th>\n",
       "      <td>Wiley</td>\n",
       "      <td>Movement Disorders</td>\n",
       "      <td>Limb amputations in fixed dystonia: a form of ...</td>\n",
       "      <td>201024.0</td>\n",
       "    </tr>\n",
       "    <tr>\n",
       "      <th>1470</th>\n",
       "      <td>Public Library of Science</td>\n",
       "      <td>PLoS One</td>\n",
       "      <td>Reducing stock-outs of life saving Malaria Com...</td>\n",
       "      <td>192645.0</td>\n",
       "    </tr>\n",
       "    <tr>\n",
       "      <th>986</th>\n",
       "      <td>MacMillan</td>\n",
       "      <td>NaN</td>\n",
       "      <td>Fungal Disease in Britain and the United State...</td>\n",
       "      <td>13200.0</td>\n",
       "    </tr>\n",
       "    <tr>\n",
       "      <th>1619</th>\n",
       "      <td>public.service.co.uk</td>\n",
       "      <td>Public Service Review</td>\n",
       "      <td>Laboratory Science in Tropical Medicine</td>\n",
       "      <td>6000.0</td>\n",
       "    </tr>\n",
       "    <tr>\n",
       "      <th>800</th>\n",
       "      <td>Elsevier</td>\n",
       "      <td>The Lancet Neurology</td>\n",
       "      <td>Genetic risk factors for ischaemic stroke and ...</td>\n",
       "      <td>5760.0</td>\n",
       "    </tr>\n",
       "  </tbody>\n",
       "</table>\n",
       "</div>"
      ],
      "text/plain": [
       "                      Publisher          Journal title  \\\n",
       "1987                      Wiley     Movement Disorders   \n",
       "1470  Public Library of Science               PLoS One   \n",
       "986                   MacMillan                    NaN   \n",
       "1619       public.service.co.uk  Public Service Review   \n",
       "800                    Elsevier   The Lancet Neurology   \n",
       "\n",
       "                                          Article title      Cost  \n",
       "1987  Limb amputations in fixed dystonia: a form of ...  201024.0  \n",
       "1470  Reducing stock-outs of life saving Malaria Com...  192645.0  \n",
       "986   Fungal Disease in Britain and the United State...   13200.0  \n",
       "1619            Laboratory Science in Tropical Medicine    6000.0  \n",
       "800   Genetic risk factors for ischaemic stroke and ...    5760.0  "
      ]
     },
     "execution_count": 33,
     "metadata": {},
     "output_type": "execute_result"
    }
   ],
   "source": [
    " new_df1.nlargest(5, 'Cost')"
   ]
  },
  {
   "cell_type": "markdown",
   "metadata": {},
   "source": [
    "Cheapest 5 article title,journal title"
   ]
  },
  {
   "cell_type": "code",
   "execution_count": 34,
   "metadata": {
    "collapsed": false
   },
   "outputs": [
    {
     "data": {
      "text/html": [
       "<div>\n",
       "<table border=\"1\" class=\"dataframe\">\n",
       "  <thead>\n",
       "    <tr style=\"text-align: right;\">\n",
       "      <th></th>\n",
       "      <th>Publisher</th>\n",
       "      <th>Journal title</th>\n",
       "      <th>Article title</th>\n",
       "      <th>Cost</th>\n",
       "    </tr>\n",
       "  </thead>\n",
       "  <tbody>\n",
       "    <tr>\n",
       "      <th>0</th>\n",
       "      <td>CUP</td>\n",
       "      <td>Psychological Medicine</td>\n",
       "      <td>Reduced parahippocampal cortical thickness in ...</td>\n",
       "      <td>0.00</td>\n",
       "    </tr>\n",
       "    <tr>\n",
       "      <th>243</th>\n",
       "      <td>BioMed Central Ltd</td>\n",
       "      <td>Veterinary Research</td>\n",
       "      <td>Understanding foot-and-mouth disease virus tra...</td>\n",
       "      <td>9.93</td>\n",
       "    </tr>\n",
       "    <tr>\n",
       "      <th>100</th>\n",
       "      <td>American Society for Nutrition</td>\n",
       "      <td>American Society for Nutrition</td>\n",
       "      <td>The association between breastfeeding and HIV ...</td>\n",
       "      <td>45.94</td>\n",
       "    </tr>\n",
       "    <tr>\n",
       "      <th>1469</th>\n",
       "      <td>Public Library of Science</td>\n",
       "      <td>PLoS One</td>\n",
       "      <td>How  well are Malaria Maps used to design and ...</td>\n",
       "      <td>122.31</td>\n",
       "    </tr>\n",
       "    <tr>\n",
       "      <th>1677</th>\n",
       "      <td>Sciedu Press</td>\n",
       "      <td>Journal of Biomedical Graphics and Computing</td>\n",
       "      <td>Functional MRI demonstrates pain perception in...</td>\n",
       "      <td>135.29</td>\n",
       "    </tr>\n",
       "  </tbody>\n",
       "</table>\n",
       "</div>"
      ],
      "text/plain": [
       "                           Publisher  \\\n",
       "0                                CUP   \n",
       "243               BioMed Central Ltd   \n",
       "100   American Society for Nutrition   \n",
       "1469       Public Library of Science   \n",
       "1677                    Sciedu Press   \n",
       "\n",
       "                                     Journal title  \\\n",
       "0                           Psychological Medicine   \n",
       "243                            Veterinary Research   \n",
       "100                 American Society for Nutrition   \n",
       "1469                                      PLoS One   \n",
       "1677  Journal of Biomedical Graphics and Computing   \n",
       "\n",
       "                                          Article title    Cost  \n",
       "0     Reduced parahippocampal cortical thickness in ...    0.00  \n",
       "243   Understanding foot-and-mouth disease virus tra...    9.93  \n",
       "100   The association between breastfeeding and HIV ...   45.94  \n",
       "1469  How  well are Malaria Maps used to design and ...  122.31  \n",
       "1677  Functional MRI demonstrates pain perception in...  135.29  "
      ]
     },
     "execution_count": 34,
     "metadata": {},
     "output_type": "execute_result"
    }
   ],
   "source": [
    "new_df1.nsmallest(5, 'Cost')"
   ]
  },
  {
   "cell_type": "markdown",
   "metadata": {},
   "source": [
    "Finding the mode of cost"
   ]
  },
  {
   "cell_type": "code",
   "execution_count": 160,
   "metadata": {
    "collapsed": false
   },
   "outputs": [
    {
     "data": {
      "text/plain": [
       "0    2040.0\n",
       "dtype: float64"
      ]
     },
     "execution_count": 160,
     "metadata": {},
     "output_type": "execute_result"
    }
   ],
   "source": [
    "new_df1['Cost'].mode()"
   ]
  }
 ],
 "metadata": {
  "anaconda-cloud": {},
  "kernelspec": {
   "display_name": "Python [default]",
   "language": "python",
   "name": "python3"
  },
  "language_info": {
   "codemirror_mode": {
    "name": "ipython",
    "version": 3
   },
   "file_extension": ".py",
   "mimetype": "text/x-python",
   "name": "python",
   "nbconvert_exporter": "python",
   "pygments_lexer": "ipython3",
   "version": "3.5.2"
  }
 },
 "nbformat": 4,
 "nbformat_minor": 1
}
